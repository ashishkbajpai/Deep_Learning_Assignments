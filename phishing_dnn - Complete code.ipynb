{
 "cells": [
  {
   "cell_type": "markdown",
   "metadata": {},
   "source": [
    "# Phising DNN"
   ]
  },
  {
   "cell_type": "markdown",
   "metadata": {},
   "source": [
    "### Import modules"
   ]
  },
  {
   "cell_type": "code",
   "execution_count": 106,
   "metadata": {},
   "outputs": [],
   "source": [
    "import numpy as np\n",
    "import pandas as pd\n",
    "from sklearn.model_selection import train_test_split\n",
    "import tensorflow as tf"
   ]
  },
  {
   "cell_type": "markdown",
   "metadata": {},
   "source": [
    "### Data set Description\n"
   ]
  },
  {
   "cell_type": "code",
   "execution_count": 107,
   "metadata": {},
   "outputs": [],
   "source": [
    "phishing = np.loadtxt('./phishing.txt', delimiter=',')\n",
    "\n",
    "#attribute having_IP_Address  { -1,1 }\n",
    "#attribute URL_Length   { 1,0,-1 }\n",
    "#attribute Shortining_Service { 1,-1 }\n",
    "#attribute having_At_Symbol   { 1,-1 }\n",
    "#attribute double_slash_redirecting { -1,1 }\n",
    "#attribute Prefix_Suffix  { -1,1 }\n",
    "#attribute having_Sub_Domain  { -1,0,1 }\n",
    "#attribute SSLfinal_State  { -1,1,0 }\n",
    "#attribute Domain_registeration_length { -1,1 }\n",
    "#attribute Favicon { 1,-1 }\n",
    "#attribute port { 1,-1 }\n",
    "#attribute HTTPS_token { -1,1 }\n",
    "#attribute Request_URL  { 1,-1 }\n",
    "#attribute URL_of_Anchor { -1,0,1 }\n",
    "#attribute Links_in_tags { 1,-1,0 }\n",
    "#attribute SFH  { -1,1,0 }\n",
    "#attribute Submitting_to_email { -1,1 }\n",
    "#attribute Abnormal_URL { -1,1 }\n",
    "#attribute Redirect  { 0,1 }\n",
    "#attribute on_mouseover  { 1,-1 }\n",
    "#attribute RightClick  { 1,-1 }\n",
    "#attribute popUpWidnow  { 1,-1 }\n",
    "#attribute Iframe { 1,-1 }\n",
    "#attribute age_of_domain  { -1,1 }\n",
    "#attribute DNSRecord   { -1,1 }\n",
    "#attribute web_traffic  { -1,0,1 }\n",
    "#attribute Page_Rank { -1,1 }\n",
    "#attribute Google_Index { 1,-1 }\n",
    "#attribute Links_pointing_to_page { 1,0,-1 }\n",
    "#attribute Statistical_report { -1,1 }\n",
    "#attribute Result  { -1,1 }"
   ]
  },
  {
   "cell_type": "code",
   "execution_count": 108,
   "metadata": {},
   "outputs": [],
   "source": [
    "#Student assignment starts here\n",
    "\n",
    "#Split the data into 70% training data and 30% test data\n",
    "\n",
    "#Use TensorFlow estimator DNN Classifier to train a model for phishing URL prediction\n",
    "\n",
    "#Print the test accuracy of the trained model"
   ]
  },
  {
   "cell_type": "code",
   "execution_count": 109,
   "metadata": {},
   "outputs": [],
   "source": [
    "# Upload array in to Data Frame for text visualization\n",
    "phising_df = pd.DataFrame(phishing)"
   ]
  },
  {
   "cell_type": "code",
   "execution_count": 110,
   "metadata": {},
   "outputs": [
    {
     "name": "stdout",
     "output_type": "stream",
     "text": [
      "<class 'pandas.core.frame.DataFrame'>\n",
      "RangeIndex: 11055 entries, 0 to 11054\n",
      "Data columns (total 31 columns):\n",
      "0     11055 non-null float64\n",
      "1     11055 non-null float64\n",
      "2     11055 non-null float64\n",
      "3     11055 non-null float64\n",
      "4     11055 non-null float64\n",
      "5     11055 non-null float64\n",
      "6     11055 non-null float64\n",
      "7     11055 non-null float64\n",
      "8     11055 non-null float64\n",
      "9     11055 non-null float64\n",
      "10    11055 non-null float64\n",
      "11    11055 non-null float64\n",
      "12    11055 non-null float64\n",
      "13    11055 non-null float64\n",
      "14    11055 non-null float64\n",
      "15    11055 non-null float64\n",
      "16    11055 non-null float64\n",
      "17    11055 non-null float64\n",
      "18    11055 non-null float64\n",
      "19    11055 non-null float64\n",
      "20    11055 non-null float64\n",
      "21    11055 non-null float64\n",
      "22    11055 non-null float64\n",
      "23    11055 non-null float64\n",
      "24    11055 non-null float64\n",
      "25    11055 non-null float64\n",
      "26    11055 non-null float64\n",
      "27    11055 non-null float64\n",
      "28    11055 non-null float64\n",
      "29    11055 non-null float64\n",
      "30    11055 non-null float64\n",
      "dtypes: float64(31)\n",
      "memory usage: 2.6 MB\n"
     ]
    }
   ],
   "source": [
    "# View metadat \n",
    "phising_df.info()"
   ]
  },
  {
   "cell_type": "code",
   "execution_count": 111,
   "metadata": {},
   "outputs": [
    {
     "data": {
      "text/html": [
       "<div>\n",
       "<style scoped>\n",
       "    .dataframe tbody tr th:only-of-type {\n",
       "        vertical-align: middle;\n",
       "    }\n",
       "\n",
       "    .dataframe tbody tr th {\n",
       "        vertical-align: top;\n",
       "    }\n",
       "\n",
       "    .dataframe thead th {\n",
       "        text-align: right;\n",
       "    }\n",
       "</style>\n",
       "<table border=\"1\" class=\"dataframe\">\n",
       "  <thead>\n",
       "    <tr style=\"text-align: right;\">\n",
       "      <th></th>\n",
       "      <th>0</th>\n",
       "      <th>1</th>\n",
       "      <th>2</th>\n",
       "      <th>3</th>\n",
       "      <th>4</th>\n",
       "      <th>5</th>\n",
       "      <th>6</th>\n",
       "      <th>7</th>\n",
       "      <th>8</th>\n",
       "      <th>9</th>\n",
       "      <th>...</th>\n",
       "      <th>21</th>\n",
       "      <th>22</th>\n",
       "      <th>23</th>\n",
       "      <th>24</th>\n",
       "      <th>25</th>\n",
       "      <th>26</th>\n",
       "      <th>27</th>\n",
       "      <th>28</th>\n",
       "      <th>29</th>\n",
       "      <th>30</th>\n",
       "    </tr>\n",
       "  </thead>\n",
       "  <tbody>\n",
       "    <tr>\n",
       "      <th>0</th>\n",
       "      <td>-1.0</td>\n",
       "      <td>1.0</td>\n",
       "      <td>1.0</td>\n",
       "      <td>1.0</td>\n",
       "      <td>-1.0</td>\n",
       "      <td>-1.0</td>\n",
       "      <td>-1.0</td>\n",
       "      <td>-1.0</td>\n",
       "      <td>-1.0</td>\n",
       "      <td>1.0</td>\n",
       "      <td>...</td>\n",
       "      <td>1.0</td>\n",
       "      <td>1.0</td>\n",
       "      <td>-1.0</td>\n",
       "      <td>-1.0</td>\n",
       "      <td>-1.0</td>\n",
       "      <td>-1.0</td>\n",
       "      <td>1.0</td>\n",
       "      <td>1.0</td>\n",
       "      <td>-1.0</td>\n",
       "      <td>-1.0</td>\n",
       "    </tr>\n",
       "    <tr>\n",
       "      <th>1</th>\n",
       "      <td>1.0</td>\n",
       "      <td>1.0</td>\n",
       "      <td>1.0</td>\n",
       "      <td>1.0</td>\n",
       "      <td>1.0</td>\n",
       "      <td>-1.0</td>\n",
       "      <td>0.0</td>\n",
       "      <td>1.0</td>\n",
       "      <td>-1.0</td>\n",
       "      <td>1.0</td>\n",
       "      <td>...</td>\n",
       "      <td>1.0</td>\n",
       "      <td>1.0</td>\n",
       "      <td>-1.0</td>\n",
       "      <td>-1.0</td>\n",
       "      <td>0.0</td>\n",
       "      <td>-1.0</td>\n",
       "      <td>1.0</td>\n",
       "      <td>1.0</td>\n",
       "      <td>1.0</td>\n",
       "      <td>-1.0</td>\n",
       "    </tr>\n",
       "    <tr>\n",
       "      <th>2</th>\n",
       "      <td>1.0</td>\n",
       "      <td>0.0</td>\n",
       "      <td>1.0</td>\n",
       "      <td>1.0</td>\n",
       "      <td>1.0</td>\n",
       "      <td>-1.0</td>\n",
       "      <td>-1.0</td>\n",
       "      <td>-1.0</td>\n",
       "      <td>-1.0</td>\n",
       "      <td>1.0</td>\n",
       "      <td>...</td>\n",
       "      <td>1.0</td>\n",
       "      <td>1.0</td>\n",
       "      <td>1.0</td>\n",
       "      <td>-1.0</td>\n",
       "      <td>1.0</td>\n",
       "      <td>-1.0</td>\n",
       "      <td>1.0</td>\n",
       "      <td>0.0</td>\n",
       "      <td>-1.0</td>\n",
       "      <td>-1.0</td>\n",
       "    </tr>\n",
       "    <tr>\n",
       "      <th>3</th>\n",
       "      <td>1.0</td>\n",
       "      <td>0.0</td>\n",
       "      <td>1.0</td>\n",
       "      <td>1.0</td>\n",
       "      <td>1.0</td>\n",
       "      <td>-1.0</td>\n",
       "      <td>-1.0</td>\n",
       "      <td>-1.0</td>\n",
       "      <td>1.0</td>\n",
       "      <td>1.0</td>\n",
       "      <td>...</td>\n",
       "      <td>1.0</td>\n",
       "      <td>1.0</td>\n",
       "      <td>-1.0</td>\n",
       "      <td>-1.0</td>\n",
       "      <td>1.0</td>\n",
       "      <td>-1.0</td>\n",
       "      <td>1.0</td>\n",
       "      <td>-1.0</td>\n",
       "      <td>1.0</td>\n",
       "      <td>-1.0</td>\n",
       "    </tr>\n",
       "    <tr>\n",
       "      <th>4</th>\n",
       "      <td>1.0</td>\n",
       "      <td>0.0</td>\n",
       "      <td>-1.0</td>\n",
       "      <td>1.0</td>\n",
       "      <td>1.0</td>\n",
       "      <td>-1.0</td>\n",
       "      <td>1.0</td>\n",
       "      <td>1.0</td>\n",
       "      <td>-1.0</td>\n",
       "      <td>1.0</td>\n",
       "      <td>...</td>\n",
       "      <td>-1.0</td>\n",
       "      <td>1.0</td>\n",
       "      <td>-1.0</td>\n",
       "      <td>-1.0</td>\n",
       "      <td>0.0</td>\n",
       "      <td>-1.0</td>\n",
       "      <td>1.0</td>\n",
       "      <td>1.0</td>\n",
       "      <td>1.0</td>\n",
       "      <td>1.0</td>\n",
       "    </tr>\n",
       "  </tbody>\n",
       "</table>\n",
       "<p>5 rows × 31 columns</p>\n",
       "</div>"
      ],
      "text/plain": [
       "    0    1    2    3    4    5    6    7    8    9   ...   21   22   23   24  \\\n",
       "0 -1.0  1.0  1.0  1.0 -1.0 -1.0 -1.0 -1.0 -1.0  1.0  ...  1.0  1.0 -1.0 -1.0   \n",
       "1  1.0  1.0  1.0  1.0  1.0 -1.0  0.0  1.0 -1.0  1.0  ...  1.0  1.0 -1.0 -1.0   \n",
       "2  1.0  0.0  1.0  1.0  1.0 -1.0 -1.0 -1.0 -1.0  1.0  ...  1.0  1.0  1.0 -1.0   \n",
       "3  1.0  0.0  1.0  1.0  1.0 -1.0 -1.0 -1.0  1.0  1.0  ...  1.0  1.0 -1.0 -1.0   \n",
       "4  1.0  0.0 -1.0  1.0  1.0 -1.0  1.0  1.0 -1.0  1.0  ... -1.0  1.0 -1.0 -1.0   \n",
       "\n",
       "    25   26   27   28   29   30  \n",
       "0 -1.0 -1.0  1.0  1.0 -1.0 -1.0  \n",
       "1  0.0 -1.0  1.0  1.0  1.0 -1.0  \n",
       "2  1.0 -1.0  1.0  0.0 -1.0 -1.0  \n",
       "3  1.0 -1.0  1.0 -1.0  1.0 -1.0  \n",
       "4  0.0 -1.0  1.0  1.0  1.0  1.0  \n",
       "\n",
       "[5 rows x 31 columns]"
      ]
     },
     "execution_count": 111,
     "metadata": {},
     "output_type": "execute_result"
    }
   ],
   "source": [
    "#Visualize data\n",
    "phising_df.head()"
   ]
  },
  {
   "cell_type": "code",
   "execution_count": 112,
   "metadata": {},
   "outputs": [],
   "source": [
    "#Create X features and y label\n",
    "X = phishing[:,:30] # First 30 columns are features as defined in the cell 2\n",
    "y = phishing[:,30:31]  # Last column is result"
   ]
  },
  {
   "cell_type": "code",
   "execution_count": 113,
   "metadata": {},
   "outputs": [
    {
     "name": "stdout",
     "output_type": "stream",
     "text": [
      "(11055, 30)\n",
      "(11055, 1)\n"
     ]
    }
   ],
   "source": [
    "# Verify feature set and label set\n",
    "print(np.shape(X))\n",
    "print(np.shape(y))\n"
   ]
  },
  {
   "cell_type": "code",
   "execution_count": 114,
   "metadata": {},
   "outputs": [
    {
     "data": {
      "text/plain": [
       "array([-1.,  1.])"
      ]
     },
     "execution_count": 114,
     "metadata": {},
     "output_type": "execute_result"
    }
   ],
   "source": [
    "np.unique(y)"
   ]
  },
  {
   "cell_type": "code",
   "execution_count": 115,
   "metadata": {},
   "outputs": [],
   "source": [
    "# Update the label in form of \"0 , 1\" instead \"-1, 1\" for binary classification.\n",
    "y[np.where(y[:,0]<0),0] = 0"
   ]
  },
  {
   "cell_type": "code",
   "execution_count": 116,
   "metadata": {},
   "outputs": [
    {
     "data": {
      "text/plain": [
       "array([0., 1.])"
      ]
     },
     "execution_count": 116,
     "metadata": {},
     "output_type": "execute_result"
    }
   ],
   "source": [
    "np.unique(y)"
   ]
  },
  {
   "cell_type": "code",
   "execution_count": 117,
   "metadata": {},
   "outputs": [],
   "source": [
    "# Split Data\n",
    "X_train, X_test, y_train, y_test = train_test_split(X, y, test_size=0.3, random_state=42)"
   ]
  },
  {
   "cell_type": "code",
   "execution_count": 118,
   "metadata": {},
   "outputs": [
    {
     "name": "stdout",
     "output_type": "stream",
     "text": [
      "INFO:tensorflow:Using default config.\n",
      "INFO:tensorflow:Using config: {'_model_dir': '/tmp/phishing_model', '_tf_random_seed': None, '_save_summary_steps': 100, '_save_checkpoints_steps': None, '_save_checkpoints_secs': 600, '_session_config': allow_soft_placement: true\n",
      "graph_options {\n",
      "  rewrite_options {\n",
      "    meta_optimizer_iterations: ONE\n",
      "  }\n",
      "}\n",
      ", '_keep_checkpoint_max': 5, '_keep_checkpoint_every_n_hours': 10000, '_log_step_count_steps': 100, '_train_distribute': None, '_device_fn': None, '_protocol': None, '_eval_distribute': None, '_experimental_distribute': None, '_service': None, '_cluster_spec': <tensorflow.python.training.server_lib.ClusterSpec object at 0x0000024AD498A448>, '_task_type': 'worker', '_task_id': 0, '_global_id_in_cluster': 0, '_master': '', '_evaluation_master': '', '_is_chief': True, '_num_ps_replicas': 0, '_num_worker_replicas': 1}\n",
      "INFO:tensorflow:Calling model_fn.\n",
      "INFO:tensorflow:Done calling model_fn.\n",
      "INFO:tensorflow:Create CheckpointSaverHook.\n",
      "INFO:tensorflow:Graph was finalized.\n",
      "INFO:tensorflow:Running local_init_op.\n",
      "INFO:tensorflow:Done running local_init_op.\n",
      "INFO:tensorflow:Saving checkpoints for 0 into /tmp/phishing_model\\model.ckpt.\n",
      "INFO:tensorflow:loss = 6289.647, step = 1\n",
      "INFO:tensorflow:global_step/sec: 108.61\n",
      "INFO:tensorflow:loss = 2268.0063, step = 101 (0.925 sec)\n",
      "INFO:tensorflow:global_step/sec: 139.174\n",
      "INFO:tensorflow:loss = 1904.6313, step = 201 (0.720 sec)\n",
      "INFO:tensorflow:global_step/sec: 141.825\n",
      "INFO:tensorflow:loss = 1693.811, step = 301 (0.704 sec)\n",
      "INFO:tensorflow:global_step/sec: 144.446\n",
      "INFO:tensorflow:loss = 1541.5544, step = 401 (0.696 sec)\n",
      "INFO:tensorflow:global_step/sec: 140.195\n",
      "INFO:tensorflow:loss = 1446.3721, step = 501 (0.706 sec)\n",
      "INFO:tensorflow:global_step/sec: 143.581\n",
      "INFO:tensorflow:loss = 1371.8519, step = 601 (0.694 sec)\n",
      "INFO:tensorflow:global_step/sec: 141.601\n",
      "INFO:tensorflow:loss = 1314.4717, step = 701 (0.710 sec)\n",
      "INFO:tensorflow:global_step/sec: 143.766\n",
      "INFO:tensorflow:loss = 1280.1033, step = 801 (0.692 sec)\n",
      "INFO:tensorflow:global_step/sec: 139.913\n",
      "INFO:tensorflow:loss = 1246.2572, step = 901 (0.715 sec)\n",
      "INFO:tensorflow:global_step/sec: 142.848\n",
      "INFO:tensorflow:loss = 1219.4487, step = 1001 (0.700 sec)\n",
      "INFO:tensorflow:global_step/sec: 143.322\n",
      "INFO:tensorflow:loss = 1194.7249, step = 1101 (0.698 sec)\n",
      "INFO:tensorflow:global_step/sec: 139.246\n",
      "INFO:tensorflow:loss = 1182.6953, step = 1201 (0.718 sec)\n",
      "INFO:tensorflow:global_step/sec: 140.295\n",
      "INFO:tensorflow:loss = 1163.7661, step = 1301 (0.713 sec)\n",
      "INFO:tensorflow:global_step/sec: 142.912\n",
      "INFO:tensorflow:loss = 1149.9707, step = 1401 (0.700 sec)\n",
      "INFO:tensorflow:global_step/sec: 147.343\n",
      "INFO:tensorflow:loss = 1137.6117, step = 1501 (0.694 sec)\n",
      "INFO:tensorflow:global_step/sec: 141.487\n",
      "INFO:tensorflow:loss = 1127.8795, step = 1601 (0.691 sec)\n",
      "INFO:tensorflow:global_step/sec: 147.39\n",
      "INFO:tensorflow:loss = 1116.6033, step = 1701 (0.695 sec)\n",
      "INFO:tensorflow:global_step/sec: 143.214\n",
      "INFO:tensorflow:loss = 1111.6163, step = 1801 (0.682 sec)\n",
      "INFO:tensorflow:global_step/sec: 142.131\n",
      "INFO:tensorflow:loss = 1104.0641, step = 1901 (0.704 sec)\n",
      "INFO:tensorflow:global_step/sec: 137.992\n",
      "INFO:tensorflow:loss = 1103.3888, step = 2001 (0.729 sec)\n",
      "INFO:tensorflow:global_step/sec: 143.446\n",
      "INFO:tensorflow:loss = 1093.6603, step = 2101 (0.697 sec)\n",
      "INFO:tensorflow:global_step/sec: 143.9\n",
      "INFO:tensorflow:loss = 1084.8795, step = 2201 (0.696 sec)\n",
      "INFO:tensorflow:global_step/sec: 143.498\n",
      "INFO:tensorflow:loss = 1079.0178, step = 2301 (0.697 sec)\n",
      "INFO:tensorflow:global_step/sec: 143.263\n",
      "INFO:tensorflow:loss = 1074.9026, step = 2401 (0.694 sec)\n",
      "INFO:tensorflow:global_step/sec: 144.632\n",
      "INFO:tensorflow:loss = 1074.6113, step = 2501 (0.691 sec)\n",
      "INFO:tensorflow:global_step/sec: 139.786\n",
      "INFO:tensorflow:loss = 1069.7489, step = 2601 (0.715 sec)\n",
      "INFO:tensorflow:global_step/sec: 143.18\n",
      "INFO:tensorflow:loss = 1065.2273, step = 2701 (0.698 sec)\n",
      "INFO:tensorflow:global_step/sec: 142.596\n",
      "INFO:tensorflow:loss = 1063.7289, step = 2801 (0.701 sec)\n",
      "INFO:tensorflow:global_step/sec: 144.035\n",
      "INFO:tensorflow:loss = 1056.9541, step = 2901 (0.694 sec)\n",
      "INFO:tensorflow:global_step/sec: 141.546\n",
      "INFO:tensorflow:loss = 1055.873, step = 3001 (0.706 sec)\n",
      "INFO:tensorflow:global_step/sec: 145\n",
      "INFO:tensorflow:loss = 1052.814, step = 3101 (0.694 sec)\n",
      "INFO:tensorflow:global_step/sec: 145.083\n",
      "INFO:tensorflow:loss = 1048.9387, step = 3201 (0.685 sec)\n",
      "INFO:tensorflow:global_step/sec: 142.827\n",
      "INFO:tensorflow:loss = 1047.5973, step = 3301 (0.700 sec)\n",
      "INFO:tensorflow:global_step/sec: 143.342\n",
      "INFO:tensorflow:loss = 1046.2324, step = 3401 (0.698 sec)\n",
      "INFO:tensorflow:global_step/sec: 142.02\n",
      "INFO:tensorflow:loss = 1044.0518, step = 3501 (0.704 sec)\n",
      "INFO:tensorflow:global_step/sec: 145.281\n",
      "INFO:tensorflow:loss = 1042.955, step = 3601 (0.688 sec)\n",
      "INFO:tensorflow:global_step/sec: 141.188\n",
      "INFO:tensorflow:loss = 1042.4548, step = 3701 (0.708 sec)\n",
      "INFO:tensorflow:global_step/sec: 142.99\n",
      "INFO:tensorflow:loss = 1039.8584, step = 3801 (0.699 sec)\n",
      "INFO:tensorflow:global_step/sec: 144.635\n",
      "INFO:tensorflow:loss = 1037.9192, step = 3901 (0.691 sec)\n",
      "INFO:tensorflow:global_step/sec: 144.272\n",
      "INFO:tensorflow:loss = 1037.1711, step = 4001 (0.696 sec)\n",
      "INFO:tensorflow:global_step/sec: 145.128\n",
      "INFO:tensorflow:loss = 1037.6569, step = 4101 (0.702 sec)\n",
      "INFO:tensorflow:global_step/sec: 129.293\n",
      "INFO:tensorflow:loss = 1037.511, step = 4201 (0.762 sec)\n",
      "INFO:tensorflow:global_step/sec: 143.058\n",
      "INFO:tensorflow:loss = 1031.8156, step = 4301 (0.695 sec)\n",
      "INFO:tensorflow:global_step/sec: 144.489\n",
      "INFO:tensorflow:loss = 1029.2162, step = 4401 (0.699 sec)\n",
      "INFO:tensorflow:global_step/sec: 133.382\n",
      "INFO:tensorflow:loss = 1029.8534, step = 4501 (0.742 sec)\n",
      "INFO:tensorflow:global_step/sec: 142.071\n",
      "INFO:tensorflow:loss = 1027.2847, step = 4601 (0.704 sec)\n",
      "INFO:tensorflow:global_step/sec: 142.617\n",
      "INFO:tensorflow:loss = 1029.287, step = 4701 (0.705 sec)\n",
      "INFO:tensorflow:global_step/sec: 141.611\n",
      "INFO:tensorflow:loss = 1027.2708, step = 4801 (0.702 sec)\n",
      "INFO:tensorflow:global_step/sec: 141.069\n",
      "INFO:tensorflow:loss = 1023.989, step = 4901 (0.711 sec)\n",
      "INFO:tensorflow:Saving checkpoints for 5000 into /tmp/phishing_model\\model.ckpt.\n",
      "INFO:tensorflow:Loss for final step: 1025.2844.\n"
     ]
    },
    {
     "data": {
      "text/plain": [
       "<tensorflow_estimator.python.estimator.canned.dnn.DNNClassifier at 0x24ad498a108>"
      ]
     },
     "execution_count": 118,
     "metadata": {},
     "output_type": "execute_result"
    }
   ],
   "source": [
    "# Train DNNClassifier\n",
    "feature_columns =[tf.feature_column.numeric_column(\"x\",shape=[np.shape(X)[1]])] #np.shape(X)[1] = Count of feature columns\n",
    "\n",
    "classifier = tf.estimator.DNNClassifier(feature_columns=feature_columns,\n",
    "                                        hidden_units=[5,27,3], n_classes=2,model_dir=\"/tmp/phishing_model\",\n",
    "                                    optimizer= 'Adagrad' )\n",
    "\n",
    "def train_input_fn():\n",
    "    return {\"x\":np.array(X_train)},np.array(y_train,dtype=np.int)\n",
    "\n",
    "classifier.train(input_fn=train_input_fn, steps=5000)"
   ]
  },
  {
   "cell_type": "code",
   "execution_count": 119,
   "metadata": {},
   "outputs": [
    {
     "name": "stdout",
     "output_type": "stream",
     "text": [
      "INFO:tensorflow:Calling model_fn.\n",
      "WARNING:tensorflow:Trapezoidal rule is known to produce incorrect PR-AUCs; please switch to \"careful_interpolation\" instead.\n",
      "WARNING:tensorflow:Trapezoidal rule is known to produce incorrect PR-AUCs; please switch to \"careful_interpolation\" instead.\n",
      "INFO:tensorflow:Done calling model_fn.\n",
      "INFO:tensorflow:Starting evaluation at 2020-01-15T06:19:14Z\n",
      "INFO:tensorflow:Graph was finalized.\n",
      "INFO:tensorflow:Restoring parameters from /tmp/phishing_model\\model.ckpt-5000\n",
      "INFO:tensorflow:Running local_init_op.\n",
      "INFO:tensorflow:Done running local_init_op.\n",
      "INFO:tensorflow:Evaluation [1/1]\n",
      "INFO:tensorflow:Finished evaluation at 2020-01-15-06:19:16\n",
      "INFO:tensorflow:Saving dict for global step 5000: accuracy = 0.94241786, accuracy_baseline = 0.5694905, auc = 0.96479344, auc_precision_recall = 0.9726405, average_loss = 0.18373652, global_step = 5000, label/mean = 0.5694905, loss = 609.45404, precision = 0.93627954, prediction/mean = 0.56677204, recall = 0.9645315\n",
      "INFO:tensorflow:Saving 'checkpoint_path' summary for global step 5000: /tmp/phishing_model\\model.ckpt-5000\n",
      "Test Accuracy: 0.942418\n"
     ]
    }
   ],
   "source": [
    "#Test on test data\n",
    "def test_input_fn():\n",
    "    return {\"x\":np.array(X_test)},np.array(y_test,dtype=np.int)\n",
    "\n",
    "accuracy_score = classifier.evaluate(input_fn=test_input_fn,steps=1)[\"accuracy\"]\n",
    "print(\"Test Accuracy: {0:f}\".format(accuracy_score))"
   ]
  },
  {
   "cell_type": "code",
   "execution_count": null,
   "metadata": {},
   "outputs": [],
   "source": []
  }
 ],
 "metadata": {
  "kernelspec": {
   "display_name": "Python 3",
   "language": "python",
   "name": "python3"
  },
  "language_info": {
   "codemirror_mode": {
    "name": "ipython",
    "version": 3
   },
   "file_extension": ".py",
   "mimetype": "text/x-python",
   "name": "python",
   "nbconvert_exporter": "python",
   "pygments_lexer": "ipython3",
   "version": "3.7.5"
  }
 },
 "nbformat": 4,
 "nbformat_minor": 2
}
